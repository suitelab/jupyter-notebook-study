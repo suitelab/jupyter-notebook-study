{
 "cells": [
  {
   "cell_type": "markdown",
   "metadata": {},
   "source": [
    "### 인공뉴런\n",
    "\n",
    "$ y = Sigmoid(X * W + b) $"
   ]
  },
  {
   "cell_type": "markdown",
   "metadata": {},
   "source": [
    "### 활성화 함수(activation function)\n",
    "인공신경망을 통과해온 값을 최종적으로 어떤 값으로 만들지를 결정.\n",
    "\n",
    "Sigmoid, ReLU, tanh 함수등이 있음  \n",
    "\n",
    "---\n",
    "- Sigmoid  \n",
    "0과 1에 한없이 가까워짐\n",
    "- tanh  \n",
    "1과 -1에 한없이 가까워짐\n",
    "- ReLU  \n",
    "0보다 작으면 항상 0, 0보다크면 입력값을 그대로 출력"
   ]
  },
  {
   "cell_type": "markdown",
   "metadata": {},
   "source": [
    "### Classification\n",
    "패턴을 파악해 여러 종류로 구분하는 작업"
   ]
  },
  {
   "cell_type": "code",
   "execution_count": 23,
   "metadata": {},
   "outputs": [],
   "source": [
    "import tensorflow as tf\n",
    "import numpy as np"
   ]
  },
  {
   "cell_type": "markdown",
   "metadata": {},
   "source": [
    "[털, 날개] 특징데이터"
   ]
  },
  {
   "cell_type": "code",
   "execution_count": 24,
   "metadata": {},
   "outputs": [],
   "source": [
    "x_data = np.array(\n",
    "[[0, 0],[1, 0],[1, 1],[0, 0],[0, 0],[0, 1]])"
   ]
  },
  {
   "cell_type": "markdown",
   "metadata": {},
   "source": [
    "각 개체가 실제 어떤 종류인지를 나타내는 레이블(분류값) 데이터를 구성  \n",
    "`one-hot encoding`을 사용하여 구성\n",
    "- 기타 = [1, 0, 0]\n",
    "- 포유류 = [0, 1, 0]\n",
    "- 조류 = [0, 0, 1]"
   ]
  },
  {
   "cell_type": "code",
   "execution_count": 25,
   "metadata": {},
   "outputs": [],
   "source": [
    "y_data = np.array([\n",
    "    [1, 0, 0], #[0, 0] 기타\n",
    "    [0, 1, 0], #[1, 0] 포유류\n",
    "    [0, 0, 1], #[1, 1] 조류\n",
    "    [1, 0, 0], #[0, 0] 기타\n",
    "    [1, 0, 0], #[0, 0] 기타\n",
    "    [0, 0, 1], #[0, 1] 조류\n",
    "])"
   ]
  },
  {
   "cell_type": "markdown",
   "metadata": {},
   "source": [
    "### 신경망 모델 구성\n",
    "\n",
    "특징(feature) X와 레이블(label) Y와의 관계를 알아내는 신경망 모델"
   ]
  },
  {
   "cell_type": "code",
   "execution_count": 26,
   "metadata": {},
   "outputs": [],
   "source": [
    "X = tf.placeholder(tf.float32)\n",
    "Y = tf.placeholder(tf.float32)"
   ]
  },
  {
   "cell_type": "markdown",
   "metadata": {},
   "source": [
    "신경망을 결정하는 가중치(Weight)와 편향(bias)변수 설정  \n",
    "이 값들을 여러 가지로 바꿔가면서 X와 Y의 연관 관계를 학습\n",
    "\n",
    "- W : [feature수, label수]로 설정\n",
    "- b : label수로 설정"
   ]
  },
  {
   "cell_type": "markdown",
   "metadata": {},
   "source": [
    "### 단일 신경망\n",
    "---\n",
    "```python\n",
    "W = tf.Variable(tf.random_uniform([2, 3], -1., 1.))\n",
    "b = tf.Variable(tf.zeros([3]))\n",
    "```"
   ]
  },
  {
   "cell_type": "markdown",
   "metadata": {},
   "source": [
    "### 다층 신경망\n",
    "---\n",
    "입력층과 출력층은 각각 특징과 분류 개수로 맞추고,  \n",
    "중간의 연결 부분은 맞닿은 층의 뉴런 수와 같도록 맞추면 된다.\n",
    "\n",
    "중간의 연결 부분을 `은닉층(hidden layer)`이라 하며,  \n",
    "은닉층의 뉴런 수는 hyperparameter이다.\n",
    "```py\n",
    "# weight\n",
    "W1 = [2, 10] -> [특징, 은닉층의 뉴런 수]\n",
    "W2 = [10, 3] -> [은닉층의 뉴런 수, 분류 수]\n",
    "# bias\n",
    "b1 = [10] -> 은닉층의 뉴런 수\n",
    "b2 = [3] -> 분류 수\n",
    "```"
   ]
  },
  {
   "cell_type": "code",
   "execution_count": 27,
   "metadata": {},
   "outputs": [],
   "source": [
    "W1 = tf.Variable(tf.random_uniform([2, 10], -1., 1.))\n",
    "W2 = tf.Variable(tf.random_uniform([10, 3], -1., 1.))\n",
    "b1 = tf.Variable(tf.zeros([10]))\n",
    "b2 = tf.Variable(tf.zeros([3]))"
   ]
  },
  {
   "cell_type": "markdown",
   "metadata": {},
   "source": [
    "### 단일신경망\n",
    "---\n",
    "```py\n",
    "L = tf.add(tf.matmul(X, W), b)\n",
    "L = tf.nn.relu(L)\n",
    "```"
   ]
  },
  {
   "cell_type": "code",
   "execution_count": 28,
   "metadata": {},
   "outputs": [],
   "source": [
    "L1 = tf.add(tf.matmul(X, W1), b1)\n",
    "L1 = tf.nn.relu(L1)"
   ]
  },
  {
   "cell_type": "markdown",
   "metadata": {},
   "source": [
    "### Softmax\n",
    "결과 값들을 전체합이 1이 되도록 만들어주는 함수\n",
    "> [8.04, 2.76, -6.52] -> [0.53 0.24 0.23]"
   ]
  },
  {
   "cell_type": "markdown",
   "metadata": {},
   "source": [
    "### 단일신경망\n",
    "---\n",
    "```py\n",
    "model = tf.nn.softmax(L)\n",
    "```"
   ]
  },
  {
   "cell_type": "code",
   "execution_count": 29,
   "metadata": {},
   "outputs": [],
   "source": [
    "model = tf.add(tf.matmul(L1, W2), b2)"
   ]
  },
  {
   "cell_type": "markdown",
   "metadata": {},
   "source": [
    "### Cross-Entropy\n",
    "- one-hot encoding 을 사용하는 대부분의 모델에서 사용\n",
    "- 예측값과 실제값 사이의 확률분포 차이를 계산한 값"
   ]
  },
  {
   "cell_type": "markdown",
   "metadata": {},
   "source": [
    "### 단일신경망\n",
    "---\n",
    "```py\n",
    "cost = tf.reduce_mean(-tf.reduce_sum(Y * tf.log(model), axis = 1))\n",
    "```"
   ]
  },
  {
   "cell_type": "code",
   "execution_count": 30,
   "metadata": {},
   "outputs": [],
   "source": [
    "cost = tf.reduce_mean(\n",
    "    tf.nn.softmax_cross_entropy_with_logits(labels=Y, logits=model))"
   ]
  },
  {
   "cell_type": "markdown",
   "metadata": {},
   "source": [
    "Y(실측값)     model(신경망을 통해 나온 예측값)  \n",
    "[1 0 0] [0.1 0.7 0.2]\n",
    "\n",
    "Y * tf.log(model)  \n",
    "[-1.0 0]  \n",
    "\n",
    "tf.reduce_sum : 행별로 값을 다 더함  \n",
    "[-1.0]\n",
    "\n",
    "tf.reduce_mean : 평균을 구함 = 우리의 손실값인 Cross-Entropy의 값"
   ]
  },
  {
   "cell_type": "markdown",
   "metadata": {},
   "source": [
    "### reduce_xxx 함수\n",
    "- 텐서의 차원을 줄여준다.  \n",
    "- axis parameter로 축소할 차원을 지정"
   ]
  },
  {
   "cell_type": "markdown",
   "metadata": {},
   "source": [
    "### GradientDescentOptimizer\n",
    "---\n",
    "```py\n",
    "#Basic한 Gradient Descent 로 최적화\n",
    "optimizer = tf.train.GradientDescentOptimizer(learning_rate = 0.01)\n",
    "train_op = optimizer.minimize(cost)\n",
    "```"
   ]
  },
  {
   "cell_type": "code",
   "execution_count": 36,
   "metadata": {},
   "outputs": [],
   "source": [
    "optimizer = tf.train.AdamOptimizer(learning_rate= 0.01)\n",
    "train_op = optimizer.minimize(cost)"
   ]
  },
  {
   "cell_type": "code",
   "execution_count": 37,
   "metadata": {},
   "outputs": [],
   "source": [
    "#Tensorflow의 Session을 초기화\n",
    "init = tf.global_variables_initializer()\n",
    "sess = tf.Session()\n",
    "sess.run(init)"
   ]
  },
  {
   "cell_type": "code",
   "execution_count": 38,
   "metadata": {},
   "outputs": [
    {
     "name": "stdout",
     "output_type": "stream",
     "text": [
      "10 0.623132\n",
      "20 0.478298\n",
      "30 0.374982\n",
      "40 0.296026\n",
      "50 0.232076\n",
      "60 0.179489\n",
      "70 0.137172\n",
      "80 0.104261\n",
      "90 0.0793409\n",
      "100 0.060889\n"
     ]
    }
   ],
   "source": [
    "#앞서 구성한 특징과 레이블 데이터를 이용해 학습을 100번 진행합니다.\n",
    "for step in range(100):\n",
    "    sess.run(train_op, feed_dict = {X: x_data, Y: y_data})\n",
    "    \n",
    "    #학습 도중 10번에 한 번씩 손실값을 출력해봅니다.\n",
    "    if (step + 1) % 10 == 0:\n",
    "        print(step + 1, sess.run(cost, feed_dict = {X: x_data, Y: y_data}))"
   ]
  },
  {
   "cell_type": "code",
   "execution_count": 39,
   "metadata": {},
   "outputs": [
    {
     "name": "stdout",
     "output_type": "stream",
     "text": [
      "예측값: [0 1 2 0 0 2]\n",
      "실제값: [0 1 2 0 0 2]\n"
     ]
    }
   ],
   "source": [
    "#tf.argmax : 요소중 가장 큰 값의 index를 찾아주는 함수, one-hot incoding의 결과를 거꾸로 보여줌\n",
    "prediction = tf.argmax(model, axis=1)\n",
    "target = tf.argmax(Y, axis=1)\n",
    "print('예측값:', sess.run(prediction, feed_dict={X: x_data}))\n",
    "print('실제값:', sess.run(target, feed_dict={Y: y_data}))"
   ]
  },
  {
   "cell_type": "code",
   "execution_count": 40,
   "metadata": {},
   "outputs": [
    {
     "name": "stdout",
     "output_type": "stream",
     "text": [
      "[ True  True  True  True  True  True]\n",
      "정확도: 100.00\n"
     ]
    }
   ],
   "source": [
    "is_correct = tf.equal(prediction, target)\n",
    "print(sess.run(is_correct, feed_dict={X:x_data, Y:y_data}))\n",
    "accuracy = tf.reduce_mean(tf.cast(is_correct, tf.float32))\n",
    "print('정확도: %.2f' % sess.run(accuracy * 100, feed_dict={X: x_data, Y: y_data}))"
   ]
  },
  {
   "cell_type": "code",
   "execution_count": null,
   "metadata": {},
   "outputs": [],
   "source": []
  }
 ],
 "metadata": {
  "kernelspec": {
   "display_name": "Python 3",
   "language": "python",
   "name": "python3"
  },
  "language_info": {
   "codemirror_mode": {
    "name": "ipython",
    "version": 3
   },
   "file_extension": ".py",
   "mimetype": "text/x-python",
   "name": "python",
   "nbconvert_exporter": "python",
   "pygments_lexer": "ipython3",
   "version": "3.5.2"
  }
 },
 "nbformat": 4,
 "nbformat_minor": 2
}
