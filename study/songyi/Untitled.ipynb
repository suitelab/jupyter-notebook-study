{
 "cells": [
  {
   "cell_type": "code",
   "execution_count": 1,
   "metadata": {},
   "outputs": [],
   "source": [
    "import tensorflow as tf"
   ]
  },
  {
   "cell_type": "markdown",
   "metadata": {},
   "source": [
    "## 텐서와 그래프 실행"
   ]
  },
  {
   "cell_type": "code",
   "execution_count": 2,
   "metadata": {},
   "outputs": [
    {
     "name": "stdout",
     "output_type": "stream",
     "text": [
      "Tensor(\"Const:0\", shape=(), dtype=string)\n"
     ]
    }
   ],
   "source": [
    "hello = tf.constant('Hello, Tensorflow')\n",
    "print(hello)"
   ]
  },
  {
   "cell_type": "code",
   "execution_count": 3,
   "metadata": {},
   "outputs": [
    {
     "name": "stdout",
     "output_type": "stream",
     "text": [
      "Tensor(\"Const_1:0\", shape=(3,), dtype=int32)\n"
     ]
    }
   ],
   "source": [
    "aa = tf.constant([1, 2, 3])\n",
    "print(aa)"
   ]
  },
  {
   "cell_type": "code",
   "execution_count": 4,
   "metadata": {},
   "outputs": [
    {
     "name": "stdout",
     "output_type": "stream",
     "text": [
      "Tensor(\"Add:0\", shape=(), dtype=int32)\n"
     ]
    }
   ],
   "source": [
    "a = tf.constant(10)\n",
    "b = tf.constant(32)\n",
    "c = tf.add(a, b)\n",
    "print(c)"
   ]
  },
  {
   "cell_type": "code",
   "execution_count": 5,
   "metadata": {},
   "outputs": [
    {
     "name": "stdout",
     "output_type": "stream",
     "text": [
      "b'Hello, Tensorflow'\n",
      "[10, 32, 42]\n"
     ]
    }
   ],
   "source": [
    "sess = tf.Session()\n",
    "\n",
    "print(sess.run(hello))\n",
    "print(sess.run([a, b, c]))\n",
    "\n",
    "sess.close()"
   ]
  },
  {
   "cell_type": "markdown",
   "metadata": {},
   "source": [
    "## 플레이스홀더와 변수"
   ]
  },
  {
   "cell_type": "code",
   "execution_count": 6,
   "metadata": {},
   "outputs": [
    {
     "name": "stdout",
     "output_type": "stream",
     "text": [
      "Tensor(\"Placeholder:0\", shape=(?, 3), dtype=float32)\n"
     ]
    }
   ],
   "source": [
    "X = tf.placeholder(tf.float32, [None, 3])\n",
    "print(X)"
   ]
  },
  {
   "cell_type": "code",
   "execution_count": 7,
   "metadata": {},
   "outputs": [],
   "source": [
    "x_data = [[1, 2, 3], [4, 5, 6]]"
   ]
  },
  {
   "cell_type": "code",
   "execution_count": 8,
   "metadata": {},
   "outputs": [],
   "source": [
    "W = tf.Variable(tf.random_normal([3, 2]))\n",
    "b = tf.Variable(tf.random_normal([2, 1]))"
   ]
  },
  {
   "cell_type": "code",
   "execution_count": 9,
   "metadata": {},
   "outputs": [],
   "source": [
    "expr = tf.matmul(X, W) + b"
   ]
  },
  {
   "cell_type": "code",
   "execution_count": 10,
   "metadata": {},
   "outputs": [
    {
     "name": "stdout",
     "output_type": "stream",
     "text": [
      "=== x_data ===\n",
      "[[1, 2, 3], [4, 5, 6]]\n",
      "=== W ===\n",
      "[[-0.6388821   0.51269525]\n",
      " [ 0.31753901 -0.69192493]\n",
      " [-1.32349741  0.80374247]]\n",
      "=== b ===\n",
      "[[-0.89337987]\n",
      " [ 1.24560213]]\n",
      "=== expr ===\n",
      "[[-4.86767626  0.64669305]\n",
      " [-7.66321611  4.65921307]]\n"
     ]
    }
   ],
   "source": [
    "sess = tf.Session()\n",
    "sess.run(tf.global_variables_initializer())\n",
    "\n",
    "print(\"=== x_data ===\")\n",
    "print(x_data)\n",
    "print(\"=== W ===\")\n",
    "print(sess.run(W))\n",
    "print(\"=== b ===\")\n",
    "print(sess.run(b))\n",
    "print(\"=== expr ===\")\n",
    "print(sess.run(expr, feed_dict={X: x_data}))\n",
    "\n",
    "sess.close()"
   ]
  },
  {
   "cell_type": "markdown",
   "metadata": {},
   "source": [
    "## 선형회귀모델 구현"
   ]
  },
  {
   "cell_type": "code",
   "execution_count": 11,
   "metadata": {},
   "outputs": [],
   "source": [
    "x_data = [1, 2, 3]\n",
    "y_data = [1, 2, 3]"
   ]
  },
  {
   "cell_type": "code",
   "execution_count": 12,
   "metadata": {},
   "outputs": [],
   "source": [
    "W = tf.Variable(tf.random_uniform([1], -1.0, 1.0))\n",
    "b = tf.Variable(tf.random_uniform([1], -1.0, 1.0))"
   ]
  },
  {
   "cell_type": "code",
   "execution_count": 13,
   "metadata": {},
   "outputs": [],
   "source": [
    "X = tf.placeholder(tf.float32, name = \"X\")\n",
    "Y = tf.placeholder(tf.float32, name = \"Y\")"
   ]
  },
  {
   "cell_type": "code",
   "execution_count": 14,
   "metadata": {},
   "outputs": [],
   "source": [
    "hypothesis = W * X + b"
   ]
  },
  {
   "cell_type": "code",
   "execution_count": 15,
   "metadata": {},
   "outputs": [],
   "source": [
    "cost = tf.reduce_mean(tf.square(hypothesis - Y))"
   ]
  },
  {
   "cell_type": "code",
   "execution_count": 16,
   "metadata": {},
   "outputs": [],
   "source": [
    "optimizer = tf.train.GradientDescentOptimizer(learning_rate=0.1)\n",
    "train_op = optimizer.minimize(cost)"
   ]
  },
  {
   "cell_type": "code",
   "execution_count": 17,
   "metadata": {},
   "outputs": [
    {
     "name": "stdout",
     "output_type": "stream",
     "text": [
      "0 0.866322 [ 1.31433439] [-0.61102456]\n",
      "1 0.066182 [ 1.26536548] [-0.61455339]\n",
      "2 0.0539721 [ 1.26351237] [-0.59778887]\n",
      "3 0.0513001 [ 1.25668299] [-0.58363605]\n",
      "4 0.048862 [ 1.2505666] [-0.56958205]\n",
      "5 0.046541 [ 1.24453723] [-0.55589229]\n",
      "6 0.0443303 [ 1.23865938] [-0.54252875]\n",
      "7 0.0422246 [ 1.23292208] [-0.52948678]\n",
      "8 0.0402189 [ 1.22732282] [-0.51675826]\n",
      "9 0.0383084 [ 1.22185814] [-0.50433576]\n",
      "10 0.0364887 [ 1.21652484] [-0.49221188]\n",
      "11 0.0347555 [ 1.21131968] [-0.48037943]\n",
      "12 0.0331046 [ 1.2062397] [-0.46883142]\n",
      "13 0.0315321 [ 1.20128191] [-0.45756102]\n",
      "14 0.0300343 [ 1.1964432] [-0.44656157]\n",
      "15 0.0286077 [ 1.19172084] [-0.43582654]\n",
      "16 0.0272487 [ 1.18711197] [-0.42534956]\n",
      "17 0.0259544 [ 1.18261397] [-0.41512445]\n",
      "18 0.0247216 [ 1.17822397] [-0.40514517]\n",
      "19 0.0235473 [ 1.1739397] [-0.39540571]\n",
      "20 0.0224288 [ 1.16975832] [-0.38590044]\n",
      "21 0.0213634 [ 1.16567743] [-0.37662366]\n",
      "22 0.0203486 [ 1.16169465] [-0.36756989]\n",
      "23 0.019382 [ 1.15780759] [-0.35873377]\n",
      "24 0.0184614 [ 1.15401399] [-0.35011005]\n",
      "25 0.0175844 [ 1.15031159] [-0.34169364]\n",
      "26 0.0167492 [ 1.14669824] [-0.33347955]\n",
      "27 0.0159536 [ 1.14317167] [-0.32546294]\n",
      "28 0.0151958 [ 1.13972998] [-0.31763902]\n",
      "29 0.0144739 [ 1.1363709] [-0.31000322]\n",
      "30 0.0137864 [ 1.13309264] [-0.30255091]\n",
      "31 0.0131316 [ 1.12989318] [-0.29527777]\n",
      "32 0.0125078 [ 1.12677073] [-0.28817949]\n",
      "33 0.0119137 [ 1.12372315] [-0.28125188]\n",
      "34 0.0113478 [ 1.120749] [-0.27449077]\n",
      "35 0.0108087 [ 1.11784625] [-0.26789221]\n",
      "36 0.0102953 [ 1.11501324] [-0.26145226]\n",
      "37 0.00980629 [ 1.11224842] [-0.25516713]\n",
      "38 0.00934048 [ 1.10955] [-0.24903308]\n",
      "39 0.0088968 [ 1.10691655] [-0.24304646]\n",
      "40 0.00847419 [ 1.10434639] [-0.23720379]\n",
      "41 0.00807166 [ 1.10183787] [-0.23150159]\n",
      "42 0.00768825 [ 1.09938979] [-0.22593643]\n",
      "43 0.00732305 [ 1.0970006] [-0.22050506]\n",
      "44 0.0069752 [ 1.09466875] [-0.2152043]\n",
      "45 0.00664387 [ 1.09239292] [-0.21003094]\n",
      "46 0.00632828 [ 1.09017193] [-0.20498192]\n",
      "47 0.0060277 [ 1.08800423] [-0.20005433]\n",
      "48 0.00574137 [ 1.08588862] [-0.19524516]\n",
      "49 0.00546864 [ 1.08382404] [-0.19055158]\n",
      "50 0.00520888 [ 1.08180892] [-0.18597087]\n",
      "51 0.00496146 [ 1.07984233] [-0.18150026]\n",
      "52 0.00472579 [ 1.07792294] [-0.17713715]\n",
      "53 0.00450131 [ 1.07604969] [-0.17287891]\n",
      "54 0.00428749 [ 1.07422161] [-0.16872299]\n",
      "55 0.00408383 [ 1.07243729] [-0.16466703]\n",
      "56 0.00388984 [ 1.070696] [-0.16070853]\n",
      "57 0.00370509 [ 1.06899643] [-0.15684524]\n",
      "58 0.00352908 [ 1.06733787] [-0.15307476]\n",
      "59 0.00336145 [ 1.06571913] [-0.14939494]\n",
      "60 0.00320178 [ 1.06413925] [-0.1458036]\n",
      "61 0.00304968 [ 1.06259739] [-0.14229856]\n",
      "62 0.00290484 [ 1.0610925] [-0.13887782]\n",
      "63 0.00276685 [ 1.05962396] [-0.13553926]\n",
      "64 0.00263542 [ 1.0581907] [-0.13228099]\n",
      "65 0.00251023 [ 1.05679178] [-0.12910107]\n",
      "66 0.002391 [ 1.05542648] [-0.12599757]\n",
      "67 0.00227742 [ 1.0540942] [-0.12296864]\n",
      "68 0.00216924 [ 1.05279374] [-0.12001258]\n",
      "69 0.0020662 [ 1.05152464] [-0.11712757]\n",
      "70 0.00196805 [ 1.05028605] [-0.11431191]\n",
      "71 0.00187457 [ 1.04907715] [-0.11156394]\n",
      "72 0.00178553 [ 1.04789734] [-0.10888202]\n",
      "73 0.00170072 [ 1.04674602] [-0.10626456]\n",
      "74 0.00161993 [ 1.04562223] [-0.10371005]\n",
      "75 0.00154298 [ 1.0445255] [-0.10121693]\n",
      "76 0.00146968 [ 1.04345512] [-0.09878373]\n",
      "77 0.00139988 [ 1.04241049] [-0.09640904]\n",
      "78 0.00133338 [ 1.04139102] [-0.09409143]\n",
      "79 0.00127005 [ 1.04039598] [-0.09182956]\n",
      "80 0.00120972 [ 1.0394249] [-0.08962204]\n",
      "81 0.00115226 [ 1.03847718] [-0.0874676]\n",
      "82 0.00109752 [ 1.03755224] [-0.08536495]\n",
      "83 0.00104539 [ 1.03664947] [-0.08331284]\n",
      "84 0.000995737 [ 1.03576839] [-0.08131006]\n",
      "85 0.000948433 [ 1.03490865] [-0.0793554]\n",
      "86 0.000903382 [ 1.03406942] [-0.07744776]\n",
      "87 0.000860473 [ 1.03325045] [-0.07558598]\n",
      "88 0.0008196 [ 1.03245103] [-0.07376897]\n",
      "89 0.000780668 [ 1.03167105] [-0.07199559]\n",
      "90 0.000743589 [ 1.03090966] [-0.07026489]\n",
      "91 0.000708268 [ 1.03016663] [-0.06857578]\n",
      "92 0.000674622 [ 1.02944148] [-0.06692728]\n",
      "93 0.000642581 [ 1.02873361] [-0.06531842]\n",
      "94 0.000612054 [ 1.02804291] [-0.06374817]\n",
      "95 0.000582984 [ 1.02736878] [-0.06221572]\n",
      "96 0.000555289 [ 1.02671087] [-0.06072008]\n",
      "97 0.000528913 [ 1.02606881] [-0.05926041]\n",
      "98 0.000503792 [ 1.025442] [-0.05783587]\n",
      "99 0.000479858 [ 1.02483046] [-0.05644549]\n"
     ]
    }
   ],
   "source": [
    "with tf.Session() as sess:\n",
    "    sess.run(tf.global_variables_initializer())\n",
    "    \n",
    "    for step in range(100):\n",
    "        _, cost_val = sess.run([train_op, cost], feed_dict={X: x_data,\n",
    "                                                        Y: y_data})\n",
    "    \n",
    "        print(step, cost_val, sess.run(W), sess.run(b))"
   ]
  },
  {
   "cell_type": "markdown",
   "metadata": {},
   "source": [
    "## \"들여쓰기를 하셔야해여\"\n",
    "\n",
    "---\n",
    "```python\n",
    "print(\"X: 5, Y:\", sess.run(hypothesis, feed_dict={X: 5}))\n",
    "print(\"X: 2.5, Y:\", sess.run(hypothesis, feed_dict={X: 2.5}))\n",
    "```\n",
    "### Before\n",
    "```python\n",
    "    print(\"X: 5, Y:\", sess.run(hypothesis, feed_dict={X: 5}))\n",
    "    print(\"X: 2.5, Y:\", sess.run(hypothesis, feed_dict={X: 2.5}))\n",
    "```\n",
    "> sess.run 을 사용하려면 위에서 사용한 \"with tf.Session() as sess:\"  \n",
    "코드보다 안쪽으로 한칸 들여쓰기가 되어있어야 해요 밑에처럼\n",
    "\n",
    "```python\n",
    "with tf.Session() as sess:\n",
    "    print(\"X: 5, Y:\", sess.run(hypothesis, feed_dict={X: 5}))\n",
    "    print(\"X: 2.5, Y:\", sess.run(hypothesis, feed_dict={X: 2.5}))\n",
    "```"
   ]
  },
  {
   "cell_type": "code",
   "execution_count": 18,
   "metadata": {},
   "outputs": [
    {
     "ename": "RuntimeError",
     "evalue": "Attempted to use a closed Session.",
     "output_type": "error",
     "traceback": [
      "\u001b[0;31m---------------------------------------------------------------------------\u001b[0m",
      "\u001b[0;31mRuntimeError\u001b[0m                              Traceback (most recent call last)",
      "\u001b[0;32m<ipython-input-18-c5487e2599fe>\u001b[0m in \u001b[0;36m<module>\u001b[0;34m()\u001b[0m\n\u001b[0;32m----> 1\u001b[0;31m \u001b[0mprint\u001b[0m\u001b[0;34m(\u001b[0m\u001b[0;34m\"X: 5, Y:\"\u001b[0m\u001b[0;34m,\u001b[0m \u001b[0msess\u001b[0m\u001b[0;34m.\u001b[0m\u001b[0mrun\u001b[0m\u001b[0;34m(\u001b[0m\u001b[0mhypothesis\u001b[0m\u001b[0;34m,\u001b[0m \u001b[0mfeed_dict\u001b[0m\u001b[0;34m=\u001b[0m\u001b[0;34m{\u001b[0m\u001b[0mX\u001b[0m\u001b[0;34m:\u001b[0m \u001b[0;36m5\u001b[0m\u001b[0;34m}\u001b[0m\u001b[0;34m)\u001b[0m\u001b[0;34m)\u001b[0m\u001b[0;34m\u001b[0m\u001b[0m\n\u001b[0m\u001b[1;32m      2\u001b[0m \u001b[0mprint\u001b[0m\u001b[0;34m(\u001b[0m\u001b[0;34m\"X: 2.5, Y:\"\u001b[0m\u001b[0;34m,\u001b[0m \u001b[0msess\u001b[0m\u001b[0;34m.\u001b[0m\u001b[0mrun\u001b[0m\u001b[0;34m(\u001b[0m\u001b[0mhypothesis\u001b[0m\u001b[0;34m,\u001b[0m \u001b[0mfeed_dict\u001b[0m\u001b[0;34m=\u001b[0m\u001b[0;34m{\u001b[0m\u001b[0mX\u001b[0m\u001b[0;34m:\u001b[0m \u001b[0;36m2.5\u001b[0m\u001b[0;34m}\u001b[0m\u001b[0;34m)\u001b[0m\u001b[0;34m)\u001b[0m\u001b[0;34m\u001b[0m\u001b[0m\n",
      "\u001b[0;32m/usr/local/lib/python3.5/dist-packages/tensorflow/python/client/session.py\u001b[0m in \u001b[0;36mrun\u001b[0;34m(self, fetches, feed_dict, options, run_metadata)\u001b[0m\n\u001b[1;32m    893\u001b[0m     \u001b[0;32mtry\u001b[0m\u001b[0;34m:\u001b[0m\u001b[0;34m\u001b[0m\u001b[0m\n\u001b[1;32m    894\u001b[0m       result = self._run(None, fetches, feed_dict, options_ptr,\n\u001b[0;32m--> 895\u001b[0;31m                          run_metadata_ptr)\n\u001b[0m\u001b[1;32m    896\u001b[0m       \u001b[0;32mif\u001b[0m \u001b[0mrun_metadata\u001b[0m\u001b[0;34m:\u001b[0m\u001b[0;34m\u001b[0m\u001b[0m\n\u001b[1;32m    897\u001b[0m         \u001b[0mproto_data\u001b[0m \u001b[0;34m=\u001b[0m \u001b[0mtf_session\u001b[0m\u001b[0;34m.\u001b[0m\u001b[0mTF_GetBuffer\u001b[0m\u001b[0;34m(\u001b[0m\u001b[0mrun_metadata_ptr\u001b[0m\u001b[0;34m)\u001b[0m\u001b[0;34m\u001b[0m\u001b[0m\n",
      "\u001b[0;32m/usr/local/lib/python3.5/dist-packages/tensorflow/python/client/session.py\u001b[0m in \u001b[0;36m_run\u001b[0;34m(self, handle, fetches, feed_dict, options, run_metadata)\u001b[0m\n\u001b[1;32m   1049\u001b[0m     \u001b[0;31m# Check session.\u001b[0m\u001b[0;34m\u001b[0m\u001b[0;34m\u001b[0m\u001b[0m\n\u001b[1;32m   1050\u001b[0m     \u001b[0;32mif\u001b[0m \u001b[0mself\u001b[0m\u001b[0;34m.\u001b[0m\u001b[0m_closed\u001b[0m\u001b[0;34m:\u001b[0m\u001b[0;34m\u001b[0m\u001b[0m\n\u001b[0;32m-> 1051\u001b[0;31m       \u001b[0;32mraise\u001b[0m \u001b[0mRuntimeError\u001b[0m\u001b[0;34m(\u001b[0m\u001b[0;34m'Attempted to use a closed Session.'\u001b[0m\u001b[0;34m)\u001b[0m\u001b[0;34m\u001b[0m\u001b[0m\n\u001b[0m\u001b[1;32m   1052\u001b[0m     \u001b[0;32mif\u001b[0m \u001b[0mself\u001b[0m\u001b[0;34m.\u001b[0m\u001b[0mgraph\u001b[0m\u001b[0;34m.\u001b[0m\u001b[0mversion\u001b[0m \u001b[0;34m==\u001b[0m \u001b[0;36m0\u001b[0m\u001b[0;34m:\u001b[0m\u001b[0;34m\u001b[0m\u001b[0m\n\u001b[1;32m   1053\u001b[0m       raise RuntimeError('The Session graph is empty.  Add operations to the '\n",
      "\u001b[0;31mRuntimeError\u001b[0m: Attempted to use a closed Session."
     ]
    }
   ],
   "source": [
    "print(\"X: 5, Y:\", sess.run(hypothesis, feed_dict={X: 5}))\n",
    "print(\"X: 2.5, Y:\", sess.run(hypothesis, feed_dict={X: 2.5}))"
   ]
  },
  {
   "cell_type": "code",
   "execution_count": null,
   "metadata": {},
   "outputs": [],
   "source": []
  }
 ],
 "metadata": {
  "kernelspec": {
   "display_name": "Python 3",
   "language": "python",
   "name": "python3"
  },
  "language_info": {
   "codemirror_mode": {
    "name": "ipython",
    "version": 3
   },
   "file_extension": ".py",
   "mimetype": "text/x-python",
   "name": "python",
   "nbconvert_exporter": "python",
   "pygments_lexer": "ipython3",
   "version": "3.5.2"
  }
 },
 "nbformat": 4,
 "nbformat_minor": 2
}
